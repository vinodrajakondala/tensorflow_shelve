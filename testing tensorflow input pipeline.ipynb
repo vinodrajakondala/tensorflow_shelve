{
 "cells": [
  {
   "cell_type": "code",
   "execution_count": 17,
   "id": "27d84751",
   "metadata": {},
   "outputs": [],
   "source": [
    "import tensorflow as tf"
   ]
  },
  {
   "cell_type": "code",
   "execution_count": 18,
   "id": "adf055c2",
   "metadata": {},
   "outputs": [],
   "source": [
    "daily_sales=[20,34,-45,67,10,-1,78, 99,100]"
   ]
  },
  {
   "cell_type": "code",
   "execution_count": 19,
   "id": "45566398",
   "metadata": {},
   "outputs": [
    {
     "data": {
      "text/plain": [
       "<TensorSliceDataset shapes: (), types: tf.int32>"
      ]
     },
     "execution_count": 19,
     "metadata": {},
     "output_type": "execute_result"
    }
   ],
   "source": [
    "tf_dataset = tf.data.Dataset.from_tensor_slices(daily_sales)\n",
    "tf_dataset"
   ]
  },
  {
   "cell_type": "code",
   "execution_count": 20,
   "id": "d86683eb",
   "metadata": {},
   "outputs": [
    {
     "name": "stdout",
     "output_type": "stream",
     "text": [
      "tf.Tensor(20, shape=(), dtype=int32)\n",
      "tf.Tensor(34, shape=(), dtype=int32)\n",
      "tf.Tensor(-45, shape=(), dtype=int32)\n",
      "tf.Tensor(67, shape=(), dtype=int32)\n",
      "tf.Tensor(10, shape=(), dtype=int32)\n",
      "tf.Tensor(-1, shape=(), dtype=int32)\n",
      "tf.Tensor(78, shape=(), dtype=int32)\n",
      "tf.Tensor(99, shape=(), dtype=int32)\n",
      "tf.Tensor(100, shape=(), dtype=int32)\n"
     ]
    }
   ],
   "source": [
    "for data in tf_dataset:\n",
    "    print(data)"
   ]
  },
  {
   "cell_type": "code",
   "execution_count": 21,
   "id": "2169c048",
   "metadata": {},
   "outputs": [
    {
     "name": "stdout",
     "output_type": "stream",
     "text": [
      "20\n",
      "34\n",
      "-45\n",
      "67\n",
      "10\n",
      "-1\n",
      "78\n",
      "99\n",
      "100\n"
     ]
    }
   ],
   "source": [
    "for data in tf_dataset:\n",
    "    print(data.numpy())"
   ]
  },
  {
   "cell_type": "code",
   "execution_count": 22,
   "id": "82252a38",
   "metadata": {},
   "outputs": [
    {
     "name": "stdout",
     "output_type": "stream",
     "text": [
      "20\n",
      "34\n",
      "-45\n",
      "67\n",
      "10\n",
      "-1\n",
      "78\n",
      "99\n",
      "100\n"
     ]
    }
   ],
   "source": [
    "for data in tf_dataset.as_numpy_iterator():\n",
    "    print(data)"
   ]
  },
  {
   "cell_type": "code",
   "execution_count": 23,
   "id": "fa04d1d3",
   "metadata": {},
   "outputs": [
    {
     "name": "stdout",
     "output_type": "stream",
     "text": [
      "20\n",
      "34\n",
      "-45\n"
     ]
    }
   ],
   "source": [
    "for data in tf_dataset.take(3):\n",
    "    print(data.numpy())"
   ]
  },
  {
   "cell_type": "code",
   "execution_count": 24,
   "id": "11930e5e",
   "metadata": {},
   "outputs": [
    {
     "name": "stdout",
     "output_type": "stream",
     "text": [
      "20\n",
      "34\n",
      "67\n",
      "10\n",
      "78\n",
      "99\n",
      "100\n"
     ]
    }
   ],
   "source": [
    "tf_dataset_pos = tf_dataset.filter(lambda x: x > 0)\n",
    "for dat in tf_dataset_pos:\n",
    "    print(dat.numpy())"
   ]
  },
  {
   "cell_type": "code",
   "execution_count": 27,
   "id": "45222295",
   "metadata": {},
   "outputs": [
    {
     "name": "stdout",
     "output_type": "stream",
     "text": [
      "1440\n",
      "2448\n",
      "4824\n",
      "720\n",
      "5616\n",
      "7128\n",
      "7200\n"
     ]
    }
   ],
   "source": [
    "#convers sales from US dollars to indian rupees\n",
    "#we use map: which takes each individual element , on which we can apply tranformations\n",
    "\n",
    "tf_dataset_pos_Dollar = tf_dataset_pos.map(lambda x: x*72)\n",
    "for dat_D in tf_dataset_pos_Dollar.as_numpy_iterator():\n",
    "    print(dat_D)\n"
   ]
  },
  {
   "cell_type": "code",
   "execution_count": 33,
   "id": "fa7d1bf5",
   "metadata": {},
   "outputs": [
    {
     "name": "stdout",
     "output_type": "stream",
     "text": [
      "20\n",
      "34\n",
      "67\n",
      "78\n",
      "99\n",
      "10\n",
      "100\n"
     ]
    }
   ],
   "source": [
    "#shuffle the dataset randomly\n",
    "\n",
    "tf_dataset_shuffle = tf_dataset_pos.shuffle(3)\n",
    "for shuf in tf_dataset_shuffle.as_numpy_iterator():\n",
    "    print(shuf)"
   ]
  },
  {
   "cell_type": "code",
   "execution_count": 57,
   "id": "89f0ca1a",
   "metadata": {},
   "outputs": [
    {
     "name": "stdout",
     "output_type": "stream",
     "text": [
      "20\n",
      "34\n",
      "-45\n",
      "67\n",
      "10\n",
      "-1\n",
      "78\n",
      "99\n",
      "100\n",
      "20\n",
      "34\n",
      "-45\n",
      "67\n",
      "10\n",
      "-1\n",
      "78\n",
      "99\n",
      "100\n"
     ]
    }
   ],
   "source": [
    "#repeat the dataset\n",
    "\n",
    "tf_dataset_rep = tf_dataset.repeat(2)\n",
    "for rep in tf_dataset_rep.as_numpy_iterator():\n",
    "    print(rep)"
   ]
  },
  {
   "cell_type": "markdown",
   "id": "cffe3ffa",
   "metadata": {},
   "source": [
    "#one must shuffle first, then repeat, and finally batch."
   ]
  },
  {
   "cell_type": "code",
   "execution_count": 38,
   "id": "bf59dcbe",
   "metadata": {},
   "outputs": [
    {
     "name": "stdout",
     "output_type": "stream",
     "text": [
      "[20 34]\n",
      "[67 10]\n",
      "[78 99]\n",
      "[100]\n"
     ]
    }
   ],
   "source": [
    "tf_dataset_batch = tf_dataset_pos.batch(2)\n",
    "for data_batch in tf_dataset_batch.as_numpy_iterator():\n",
    "    print(data_batch)"
   ]
  },
  {
   "cell_type": "markdown",
   "id": "176fbba4",
   "metadata": {},
   "source": [
    "# All transformation in single comamnd as Below"
   ]
  },
  {
   "cell_type": "code",
   "execution_count": 58,
   "id": "849a8c4a",
   "metadata": {},
   "outputs": [
    {
     "name": "stdout",
     "output_type": "stream",
     "text": [
      "[4824 2448]\n",
      "[1440  720]\n",
      "[7200 5616]\n",
      "[7128]\n"
     ]
    }
   ],
   "source": [
    "daily_sales=[20,34,-45,67,10,-1,78, 99,100]\n",
    "tf_dataset1 = tf.data.Dataset.from_tensor_slices(daily_sales).filter(lambda x: x > 0).map(lambda d: d*72).shuffle(3).batch(2)\n",
    "for dd in tf_dataset1.as_numpy_iterator():\n",
    "    print(dd)"
   ]
  },
  {
   "cell_type": "code",
   "execution_count": 66,
   "id": "b0f5537f",
   "metadata": {},
   "outputs": [
    {
     "name": "stdout",
     "output_type": "stream",
     "text": [
      "b'tomato\\\\Tomato__Tomato_YellowLeaf__Curl_Virus\\\\5bf51eeb-ffe7-48e2-9799-a27735dde9e4___YLCV_GCREC 5344.JPG'\n",
      "b'tomato\\\\Tomato_Leaf_Mold\\\\ad0bafb5-fc74-49b6-9626-4c2ae34bdb26___Crnl_L.Mold 8872.JPG'\n",
      "b'tomato\\\\Tomato_Early_blight\\\\a47435d5-cd96-4f92-96b9-edd35046c88f___RS_Erly.B 6390.JPG'\n",
      "b'tomato\\\\Tomato_healthy\\\\a5de43e7-fc2f-4a14-a8e6-c0f2f94c84f1___GH_HL Leaf 434.JPG'\n",
      "b'tomato\\\\Tomato_Leaf_Mold\\\\efc97ed0-2c07-448d-b69f-dc75bf46844b___Crnl_L.Mold 9159.JPG'\n"
     ]
    }
   ],
   "source": [
    "images_data = tf.data.Dataset.list_files(\"tomato/*/*\",shuffle=True)\n",
    "\n",
    "images_ds = images_data.shuffle(128)\n",
    "for ims in images_data.take(5):\n",
    "    print(ims.numpy())"
   ]
  },
  {
   "cell_type": "code",
   "execution_count": 68,
   "id": "f0116a21",
   "metadata": {},
   "outputs": [
    {
     "data": {
      "text/plain": [
       "16012"
      ]
     },
     "execution_count": 68,
     "metadata": {},
     "output_type": "execute_result"
    }
   ],
   "source": [
    "im_count= len(images_ds)\n",
    "im_count"
   ]
  },
  {
   "cell_type": "code",
   "execution_count": 70,
   "id": "e627c50f",
   "metadata": {},
   "outputs": [],
   "source": [
    "train = images_data.take(round(0.8*len(images_ds)))\n",
    "test = images_data.skip(round(0.8 *len(images_ds)))"
   ]
  },
  {
   "cell_type": "code",
   "execution_count": 71,
   "id": "f55aa8ff",
   "metadata": {},
   "outputs": [
    {
     "data": {
      "text/plain": [
       "(12810, 3202)"
      ]
     },
     "execution_count": 71,
     "metadata": {},
     "output_type": "execute_result"
    }
   ],
   "source": [
    "len(train),len(test)"
   ]
  },
  {
   "cell_type": "code",
   "execution_count": 74,
   "id": "b2c05cec",
   "metadata": {},
   "outputs": [
    {
     "name": "stdout",
     "output_type": "stream",
     "text": [
      "Found 16011 files belonging to 10 classes.\n"
     ]
    }
   ],
   "source": [
    "dataset= tf.keras.preprocessing.image_dataset_from_directory(\n",
    "    \"tomato/\",\n",
    "    shuffle=True,\n",
    "    image_size=(256,256),\n",
    "    batch_size=32\n",
    ")"
   ]
  },
  {
   "cell_type": "code",
   "execution_count": 75,
   "id": "1ce3f144",
   "metadata": {},
   "outputs": [
    {
     "data": {
      "text/plain": [
       "['Tomato_Bacterial_spot',\n",
       " 'Tomato_Early_blight',\n",
       " 'Tomato_Late_blight',\n",
       " 'Tomato_Leaf_Mold',\n",
       " 'Tomato_Septoria_leaf_spot',\n",
       " 'Tomato_Spider_mites_Two_spotted_spider_mite',\n",
       " 'Tomato__Target_Spot',\n",
       " 'Tomato__Tomato_YellowLeaf__Curl_Virus',\n",
       " 'Tomato__Tomato_mosaic_virus',\n",
       " 'Tomato_healthy']"
      ]
     },
     "execution_count": 75,
     "metadata": {},
     "output_type": "execute_result"
    }
   ],
   "source": [
    "dataset.class_names"
   ]
  },
  {
   "cell_type": "code",
   "execution_count": 76,
   "id": "1c115b77",
   "metadata": {},
   "outputs": [
    {
     "data": {
      "text/plain": [
       "<BatchDataset shapes: ((None, 256, 256, 3), (None,)), types: (tf.float32, tf.int32)>"
      ]
     },
     "execution_count": 76,
     "metadata": {},
     "output_type": "execute_result"
    }
   ],
   "source": [
    "dataset"
   ]
  },
  {
   "cell_type": "code",
   "execution_count": 77,
   "id": "ad3dc1f2",
   "metadata": {},
   "outputs": [
    {
     "data": {
      "text/plain": [
       "501"
      ]
     },
     "execution_count": 77,
     "metadata": {},
     "output_type": "execute_result"
    }
   ],
   "source": [
    "len(dataset)"
   ]
  },
  {
   "cell_type": "code",
   "execution_count": null,
   "id": "5056dea6",
   "metadata": {},
   "outputs": [],
   "source": []
  }
 ],
 "metadata": {
  "kernelspec": {
   "display_name": "Python 3 (ipykernel)",
   "language": "python",
   "name": "python3"
  },
  "language_info": {
   "codemirror_mode": {
    "name": "ipython",
    "version": 3
   },
   "file_extension": ".py",
   "mimetype": "text/x-python",
   "name": "python",
   "nbconvert_exporter": "python",
   "pygments_lexer": "ipython3",
   "version": "3.7.11"
  }
 },
 "nbformat": 4,
 "nbformat_minor": 5
}
